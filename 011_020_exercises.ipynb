{
  "nbformat": 4,
  "nbformat_minor": 0,
  "metadata": {
    "colab": {
      "name": "011-020_exercises.ipynb",
      "provenance": [],
      "collapsed_sections": [],
      "include_colab_link": true
    },
    "kernelspec": {
      "name": "python3",
      "display_name": "Python 3"
    }
  },
  "cells": [
    {
      "cell_type": "markdown",
      "metadata": {
        "id": "view-in-github",
        "colab_type": "text"
      },
      "source": [
        "<a href=\"https://colab.research.google.com/github/vansi98/exercises_python_pandas/blob/master/011_020_exercises.ipynb\" target=\"_parent\"><img src=\"https://colab.research.google.com/assets/colab-badge.svg\" alt=\"Open In Colab\"/></a>"
      ]
    },
    {
      "cell_type": "markdown",
      "metadata": {
        "id": "WLEgCW5F1hho",
        "colab_type": "text"
      },
      "source": [
        "## Numpy\n",
        "\n",
        "### Table of contents:\n",
        "* [Import biblioteki](#0)\n",
        "* [Exercise 11](#1)\n",
        "* [Exercise 12](#2)\n",
        "* [Exercise 13](#3)\n",
        "* [Exercise 14](#4)\n",
        "* [Exercise 15](#5)\n",
        "* [Exercise 16](#6)\n",
        "* [Exercise 17](#7)\n",
        "* [Exercise 18](#8)\n",
        "* [Exercise 19](#9)\n",
        "* [Exercise 20](#10)"
      ]
    },
    {
      "cell_type": "markdown",
      "metadata": {
        "id": "zeLOLmTj1kBM",
        "colab_type": "text"
      },
      "source": [
        "### <a name='0'></a> Import of libraries"
      ]
    },
    {
      "cell_type": "code",
      "metadata": {
        "id": "HXMB7SMe1Wnz",
        "colab_type": "code",
        "colab": {}
      },
      "source": [
        "import numpy as np\n",
        "\n",
        "np.__version__"
      ],
      "execution_count": null,
      "outputs": []
    },
    {
      "cell_type": "markdown",
      "metadata": {
        "id": "cyc70pMe1oCg",
        "colab_type": "text"
      },
      "source": [
        "### <a name='1'></a> Exercise 11\n",
        "Build a one-dimensional numpy array of two-digit numbers.\n",
        "\n",
        "__Expected result:__\n",
        "```\n",
        "array([10, 11, 12, 13, 14, 15, 16, 17, 18, 19, 20, 21, 22, 23, 24, 25, 26,\n",
        "       27, 28, 29, 30, 31, 32, 33, 34, 35, 36, 37, 38, 39, 40, 41, 42, 43,\n",
        "       44, 45, 46, 47, 48, 49, 50, 51, 52, 53, 54, 55, 56, 57, 58, 59, 60,\n",
        "       61, 62, 63, 64, 65, 66, 67, 68, 69, 70, 71, 72, 73, 74, 75, 76, 77,\n",
        "       78, 79, 80, 81, 82, 83, 84, 85, 86, 87, 88, 89, 90, 91, 92, 93, 94,\n",
        "       95, 96, 97, 98, 99])\n",
        "```\n",
        "\n",
        "__Tip:__ Use the _np.arange()_ function.\n"
      ]
    },
    {
      "cell_type": "code",
      "metadata": {
        "id": "AGdG-B1dvebA",
        "colab_type": "code",
        "colab": {}
      },
      "source": [
        "# enter solution here"
      ],
      "execution_count": null,
      "outputs": []
    },
    {
      "cell_type": "markdown",
      "metadata": {
        "id": "J9pY1rtr1sC0",
        "colab_type": "text"
      },
      "source": [
        "### <a name='2'></a> Exercise 12\n",
        "\n",
        "Build the numpy array specified below:\n",
        "\n",
        "```\n",
        "array([[10, 11, 12, 13, 14, 15, 16, 17, 18, 19],\n",
        "       [20, 21, 22, 23, 24, 25, 26, 27, 28, 29],\n",
        "       [30, 31, 32, 33, 34, 35, 36, 37, 38, 39],\n",
        "       [40, 41, 42, 43, 44, 45, 46, 47, 48, 49],\n",
        "       [50, 51, 52, 53, 54, 55, 56, 57, 58, 59],\n",
        "       [60, 61, 62, 63, 64, 65, 66, 67, 68, 69],\n",
        "       [70, 71, 72, 73, 74, 75, 76, 77, 78, 79],\n",
        "       [80, 81, 82, 83, 84, 85, 86, 87, 88, 89],\n",
        "       [90, 91, 92, 93, 94, 95, 96, 97, 98, 99]])\n",
        "```\n",
        "\n",
        "Note that the shape of the array is (9, 10).\n",
        "\n",
        "__Tip:__ Use the _np.arange()_ function and the _np.ndarray.reshape()_ method.\n",
        "\n"
      ]
    },
    {
      "cell_type": "code",
      "metadata": {
        "id": "FB7tAHnavw5e",
        "colab_type": "code",
        "colab": {}
      },
      "source": [
        "# enter solution here"
      ],
      "execution_count": null,
      "outputs": []
    },
    {
      "cell_type": "markdown",
      "metadata": {
        "id": "BezNAxFIv6uR",
        "colab_type": "text"
      },
      "source": [
        "### Reminder\n",
        "\n",
        "### Identity matrix:\n",
        "\n",
        "Identity matrix - a square matrix which coefficients are given by the formula:\n",
        "$${\\displaystyle a_{ij}={\\begin{cases}1\\quad {\\text{dla}}\\quad i=j\\\\[2pt]0\\quad {\\text{dla}}\\quad i\\neq j\\end{cases}}}$$\n",
        "\n",
        "#### Examples:\n",
        "${\\displaystyle I_{1}={\\begin{bmatrix}1\\end{bmatrix}},\\;I_{2}={\\begin{bmatrix}1&0\\\\0&1\\end{bmatrix}},\\;I_{3}={\\begin{bmatrix}1&0&0\\\\0&1&0\\\\0&0&1\\end{bmatrix}}}$"
      ]
    },
    {
      "cell_type": "markdown",
      "metadata": {
        "id": "XQLYT2m11wVG",
        "colab_type": "text"
      },
      "source": [
        "### <a name='3'></a> Exercise 13\n",
        "\n",
        "Build a _6x6_ two-dimensional array - identity matrix. Use the _int_ data type.\n",
        "\n",
        "__Expected result:__\n",
        "\n",
        "```\n",
        "array([[1, 0, 0, 0, 0, 0],\n",
        "       [0, 1, 0, 0, 0, 0],\n",
        "       [0, 0, 1, 0, 0, 0],\n",
        "       [0, 0, 0, 1, 0, 0],\n",
        "       [0, 0, 0, 0, 1, 0],\n",
        "       [0, 0, 0, 0, 0, 1]])\n",
        "```\n",
        "__Tip:__ Use the _np.eye()_ function.\n"
      ]
    },
    {
      "cell_type": "code",
      "metadata": {
        "id": "X8okO11Twr8e",
        "colab_type": "code",
        "colab": {}
      },
      "source": [
        "# enter solution here"
      ],
      "execution_count": null,
      "outputs": []
    },
    {
      "cell_type": "markdown",
      "metadata": {
        "id": "4xTKSUzg10MK",
        "colab_type": "text"
      },
      "source": [
        "### <a name='4'></a> Exercise 14\n",
        "\n",
        "Set the random seed to 10. Then build a one-dimensional array consisting of 30 pseudo-randomly generated values from the uniform distribution above the $ [0, 1) $ interval.\n",
        "\n",
        "__Expected result:__\n",
        "\n",
        "```\n",
        "array([0.77132064, 0.02075195, 0.63364823, 0.74880388, 0.49850701,\n",
        "       0.22479665, 0.19806286, 0.76053071, 0.16911084, 0.08833981,\n",
        "       0.68535982, 0.95339335, 0.00394827, 0.51219226, 0.81262096,\n",
        "       0.61252607, 0.72175532, 0.29187607, 0.91777412, 0.71457578,\n",
        "       0.54254437, 0.14217005, 0.37334076, 0.67413362, 0.44183317,\n",
        "       0.43401399, 0.61776698, 0.51313824, 0.65039718, 0.60103895])\n",
        "```\n",
        "__Tip:__ Use the function _np.random.rand()_.\n"
      ]
    },
    {
      "cell_type": "code",
      "metadata": {
        "id": "xW1cj7e6w7ZD",
        "colab_type": "code",
        "colab": {}
      },
      "source": [
        "# enter solution here"
      ],
      "execution_count": null,
      "outputs": []
    },
    {
      "cell_type": "markdown",
      "metadata": {
        "id": "o3HKIKlP15Ro",
        "colab_type": "text"
      },
      "source": [
        "### <a name='5'></a> Exercise 15\n",
        "\n",
        "Set the random seed to 20. Then build a two-dimensional array with the shape _(10, 4)_ pseudo-random values generated from the standard normal distribution $ N (0, 1) $.\n",
        "\n",
        "__Expected result:__\n",
        "```\n",
        "array([[ 0.88389311,  0.19586502,  0.35753652, -2.34326191],\n",
        "       [-1.08483259,  0.55969629,  0.93946935, -0.97848104],\n",
        "       [ 0.50309684,  0.40641447,  0.32346101, -0.49341088],\n",
        "       [-0.79201679, -0.84236793, -1.27950266,  0.24571517],\n",
        "       [-0.0441948 ,  1.56763255,  1.05110868,  0.40636843],\n",
        "       [-0.1686461 , -3.18970279,  1.12013226,  1.33277821],\n",
        "       [-0.24333877, -0.13003071, -0.10901737,  1.55618644],\n",
        "       [ 0.12877835, -2.06694872, -0.88549315, -1.10457948],\n",
        "       [ 0.93286635,  2.059838  , -0.93493796, -1.61299022],\n",
        "       [ 0.52706972, -1.55110074,  0.32961334, -1.13652654]])\n",
        "```\n",
        "__Tip:__ Use the function _np.random.randn()_.\n"
      ]
    },
    {
      "cell_type": "code",
      "metadata": {
        "id": "UG00TQngyIAB",
        "colab_type": "code",
        "colab": {}
      },
      "source": [
        "# enter solution here"
      ],
      "execution_count": null,
      "outputs": []
    },
    {
      "cell_type": "markdown",
      "metadata": {
        "id": "PunXd_Ey16so",
        "colab_type": "text"
      },
      "source": [
        "### <a name='6'></a> Exercise 16\n",
        "Set the random seed to 30. Then build a two-dimensional array with the shape _(10, 4)_ pseudo-random values generated from the normal distribution $ N (100, 5) $.\n",
        "$\\mu=100$   \n",
        "$\\sigma^{2}=5$\n",
        "\n",
        "__Expected result:__\n",
        "```\n",
        "array([[ 97.17349231, 103.41650023,  97.82942436, 101.05220329],\n",
        "       [ 99.7748353 , 100.67930221,  96.14063068, 103.544381  ],\n",
        "       [100.30029631,  97.52499594, 103.52901961, 100.24037271],\n",
        "       [ 98.29153712,  98.2666258 , 103.09437633, 101.70027274],\n",
        "       [ 99.36127721, 101.20382627,  95.34026547, 102.09694365],\n",
        "       [ 99.98708001,  98.95468525,  99.05410904, 102.38025432],\n",
        "       [ 93.50787269, 103.61547679, 103.18753701,  98.51356237],\n",
        "       [102.20256689,  96.19764407,  97.54000366,  97.05813038],\n",
        "       [101.81233513,  97.66380453,  98.45883627,  98.09317768],\n",
        "       [102.48979932,  95.70413391,  98.43161651, 101.89861815]])\n",
        "```\n",
        "__Tip:__ Use the function _np.random.rand()_.\n"
      ]
    },
    {
      "cell_type": "code",
      "metadata": {
        "id": "U-1MTyh_yezK",
        "colab_type": "code",
        "colab": {}
      },
      "source": [
        "# enter solution here"
      ],
      "execution_count": null,
      "outputs": []
    },
    {
      "cell_type": "markdown",
      "metadata": {
        "id": "hOhqDRz618Tx",
        "colab_type": "text"
      },
      "source": [
        "### <a name='7'></a> Exercise 17\n",
        "Iterating by array numpy $ A $ element by element (element-wise) print each element of the array to the console.\n",
        "\n",
        "```\n",
        "A = np.array([[1, 4, 3],\n",
        "              [5, 2, 6]])\n",
        "```\n",
        "\n",
        "__Tip:__ Use the _np.nditer()_ function.\n"
      ]
    },
    {
      "cell_type": "code",
      "metadata": {
        "id": "sGCn_tXyyrQn",
        "colab_type": "code",
        "colab": {}
      },
      "source": [
        "# enter solution here"
      ],
      "execution_count": null,
      "outputs": []
    },
    {
      "cell_type": "markdown",
      "metadata": {
        "id": "TXUd_4631-gw",
        "colab_type": "text"
      },
      "source": [
        "### <a name='8'></a> Exercise 18\n",
        "Create a one-dimensional numpy array (vector) consisting of 11 equally spaced points from the interval $ [0, 1]. $\n",
        "\n",
        "__Expected result:__\n",
        "```\n",
        "array([0. , 0.1, 0.2, 0.3, 0.4, 0.5, 0.6, 0.7, 0.8, 0.9, 1. ])\n",
        "```\n",
        "__Tip:__ Use the _np.linspace()_ function.\n",
        "\n"
      ]
    },
    {
      "cell_type": "code",
      "metadata": {
        "id": "DTZ74VnQy4aX",
        "colab_type": "code",
        "colab": {}
      },
      "source": [
        "# enter solution here"
      ],
      "execution_count": null,
      "outputs": []
    },
    {
      "cell_type": "markdown",
      "metadata": {
        "id": "tgI6xEn-2AQo",
        "colab_type": "text"
      },
      "source": [
        "### <a name='9'></a> Exercise 19\n",
        "\n",
        "Set the random seed to 42. Generate a one-dimensional array (vector) containing the possible result from the Big Lotto game.\n",
        "\n",
        "__Expected result:__\n",
        "```\n",
        "array([39, 29, 15, 43,  8, 21])\n",
        "```\n",
        "\n",
        "__Tip:__ The result of the game is a 6-element vector of values from 1 to 49 inclusive.\n",
        "\n"
      ]
    },
    {
      "cell_type": "code",
      "metadata": {
        "id": "ZBulGv0LzLEq",
        "colab_type": "code",
        "colab": {}
      },
      "source": [
        "# enter solution here"
      ],
      "execution_count": null,
      "outputs": []
    },
    {
      "cell_type": "markdown",
      "metadata": {
        "id": "wxhpf-uq2B1I",
        "colab_type": "text"
      },
      "source": [
        "### <a name='10'></a> Exercise 20\n",
        "Build the two-dimensional _6x6_ size array below:\n",
        "\n",
        "```\n",
        "array([[0, 0, 0, 0, 0, 0],\n",
        "       [0, 1, 0, 0, 0, 0],\n",
        "       [0, 0, 2, 0, 0, 0],\n",
        "       [0, 0, 0, 3, 0, 0],\n",
        "       [0, 0, 0, 0, 4, 0],\n",
        "       [0, 0, 0, 0, 0, 5]])\n",
        "```\n",
        "__Tip:__ Use the _np.diag()_ function.\n",
        "\n"
      ]
    },
    {
      "cell_type": "code",
      "metadata": {
        "id": "YFc0KW6URsuc",
        "colab_type": "code",
        "colab": {}
      },
      "source": [
        "# enter solution here"
      ],
      "execution_count": null,
      "outputs": []
    }
  ]
}